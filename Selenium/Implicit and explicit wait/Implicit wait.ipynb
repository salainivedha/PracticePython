{
 "cells": [
  {
   "cell_type": "code",
   "execution_count": 7,
   "metadata": {},
   "outputs": [
    {
     "name": "stdout",
     "output_type": "stream",
     "text": [
      "Code applied ..!\n"
     ]
    }
   ],
   "source": [
    "from selenium import webdriver\n",
    "from selenium.webdriver.chrome.service import Service\n",
    "from selenium.webdriver.common.by import By\n",
    "import time\n",
    "\n",
    "service_obj= Service(\"/Users/nivedha/Downloads/chromedriver_mac_arm64/chromedriver\")\n",
    "driver=webdriver.Chrome(service= service_obj)\n",
    "driver.implicitly_wait(5)\n",
    "\n",
    "driver.get(\"https://rahulshettyacademy.com/seleniumPractise/#/\")\n",
    "driver.find_element(By.CSS_SELECTOR, \"input[type='search']\").send_keys(\"ber\")\n",
    "time.sleep(2)\n",
    "results=driver.find_elements(By.XPATH, \"//div[@class='products']/div\")\n",
    "\n",
    "count=len(results)\n",
    "\n",
    "assert count>0\n",
    "for result in results:\n",
    "    result.find_element(By.XPATH, \"div/button\").click()\n",
    "\n",
    "driver.find_element(By.CSS_SELECTOR, \"img[alt='Cart']\").click()\n",
    "driver.find_element(By.XPATH, \"//button[text()='PROCEED TO CHECKOUT']\").click()\n",
    "\n",
    "driver.find_element(By.CSS_SELECTOR, \".promoCode\").send_keys(\"rahulshettyacademy\")\n",
    "\n",
    "driver.find_element(By.CLASS_NAME, \"promoBtn\").click()\n",
    "print(driver.find_element(By.CLASS_NAME, \"promoInfo\").text)\n",
    "\n",
    "\n",
    "\n",
    "\n",
    "\n",
    "\n",
    "\n",
    "\n",
    "\n"
   ]
  }
 ],
 "metadata": {
  "kernelspec": {
   "display_name": "base",
   "language": "python",
   "name": "python3"
  },
  "language_info": {
   "codemirror_mode": {
    "name": "ipython",
    "version": 3
   },
   "file_extension": ".py",
   "mimetype": "text/x-python",
   "name": "python",
   "nbconvert_exporter": "python",
   "pygments_lexer": "ipython3",
   "version": "3.9.13"
  },
  "orig_nbformat": 4,
  "vscode": {
   "interpreter": {
    "hash": "36f50e89ebdd02bcc85e461a1c8050302c5d9b5bc72e4d4807aab20548e99ac9"
   }
  }
 },
 "nbformat": 4,
 "nbformat_minor": 2
}
