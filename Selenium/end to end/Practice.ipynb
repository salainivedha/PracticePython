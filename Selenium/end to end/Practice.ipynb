{
 "cells": [
  {
   "cell_type": "code",
   "execution_count": 23,
   "metadata": {},
   "outputs": [
    {
     "name": "stdout",
     "output_type": "stream",
     "text": [
      "iphone X\n",
      "Samsung Note 8\n",
      "Nokia Edge\n",
      "Blackberry\n",
      "×\n",
      "Success! Thank you! Your order will be delivered in next few weeks :-).\n"
     ]
    }
   ],
   "source": [
    "from selenium import webdriver\n",
    "from selenium.webdriver.chrome.service import Service\n",
    "from selenium.webdriver.common.by import By\n",
    "from selenium.webdriver.support.ui import WebDriverWait\n",
    "from selenium.webdriver.support import expected_conditions\n",
    "\n",
    "\n",
    "service_obj= Service(\"/Users/nivedha/Downloads/chromedriver_mac_arm64/chromedriver\")\n",
    "driver= webdriver.Chrome(service=service_obj)\n",
    "driver.implicitly_wait(5)\n",
    "\n",
    "driver.get(\"https://rahulshettyacademy.com/angularpractice/\")\n",
    "driver.maximize_window()\n",
    "driver.find_element(By.LINK_TEXT,\"Shop\").click()\n",
    "products = driver.find_elements(By.CSS_SELECTOR, \"div[class='card h-100']\")\n",
    "\n",
    "for product in products:\n",
    "    productname = product.find_element(By.CSS_SELECTOR, \"div h4 a\").text\n",
    "    print(productname)\n",
    "    if productname == \"Blackberry\":\n",
    "        product.find_element(By.CSS_SELECTOR, \"div button\").click()\n",
    "\n",
    "driver.find_element(By.CSS_SELECTOR, \"a[class*= 'btn-primary']\").click()\n",
    "driver.find_element(By.CSS_SELECTOR, \"button[class='btn btn-success']\").click()\n",
    "\n",
    "driver.find_element(By.ID, \"country\").send_keys(\"ind\")\n",
    "wait=WebDriverWait(driver, 10)\n",
    "wait.until(expected_conditions.presence_of_all_elements_located((By.LINK_TEXT,'India')))\n",
    "driver.find_element(By.LINK_TEXT,\"India\").click()\n",
    "driver.find_element(By.CSS_SELECTOR, \"div[class='checkbox checkbox-primary']\").click()\n",
    "driver.find_element(By.XPATH, \"//input[@type='submit']\").click()\n",
    "message=driver.find_element(By.CLASS_NAME,\"alert-success\").text\n",
    "print(message)\n",
    "assert \"Success\" in message\n",
    "driver.close()\n"
   ]
  }
 ],
 "metadata": {
  "kernelspec": {
   "display_name": "base",
   "language": "python",
   "name": "python3"
  },
  "language_info": {
   "codemirror_mode": {
    "name": "ipython",
    "version": 3
   },
   "file_extension": ".py",
   "mimetype": "text/x-python",
   "name": "python",
   "nbconvert_exporter": "python",
   "pygments_lexer": "ipython3",
   "version": "3.9.13"
  },
  "orig_nbformat": 4,
  "vscode": {
   "interpreter": {
    "hash": "36f50e89ebdd02bcc85e461a1c8050302c5d9b5bc72e4d4807aab20548e99ac9"
   }
  }
 },
 "nbformat": 4,
 "nbformat_minor": 2
}
