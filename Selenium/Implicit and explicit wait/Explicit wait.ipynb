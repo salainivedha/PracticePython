{
 "cells": [
  {
   "cell_type": "code",
   "execution_count": 4,
   "metadata": {},
   "outputs": [
    {
     "name": "stdout",
     "output_type": "stream",
     "text": [
      "3\n",
      "388\n",
      "Code applied ..!\n"
     ]
    }
   ],
   "source": [
    "from selenium import webdriver\n",
    "from selenium.webdriver.chrome.service import Service\n",
    "from selenium.webdriver.common.by import By\n",
    "from selenium.webdriver.support.ui import WebDriverWait\n",
    "from selenium.webdriver.support import expected_conditions\n",
    "import time\n",
    "\n",
    "\n",
    "service_obj= Service(\"/Users/nivedha/Downloads/chromedriver_mac_arm64/chromedriver\")\n",
    "driver=webdriver.Chrome(service= service_obj)\n",
    "driver.implicitly_wait(2)\n",
    "\n",
    "driver.get(\"https://rahulshettyacademy.com/seleniumPractise/#/\")\n",
    "driver.find_element(By.CSS_SELECTOR, \"input[type='search']\").send_keys(\"ber\")\n",
    "time.sleep(2)\n",
    "results=driver.find_elements(By.XPATH, \"//div[@class='products']/div\")\n",
    "\n",
    "count=len(results)\n",
    "print(count)\n",
    "assert count>0\n",
    "for result in results:\n",
    "    result.find_element(By.XPATH, \"div/button\").click()\n",
    "\n",
    "driver.find_element(By.CSS_SELECTOR, \"img[alt='Cart']\").click()\n",
    "driver.find_element(By.XPATH, \"//button[text()='PROCEED TO CHECKOUT']\").click()\n",
    "#summation\n",
    "prices=driver.find_elements(By.XPATH, \"//tr/td[5]/p\")\n",
    "sum = 0\n",
    "for price in prices:\n",
    "    sum = sum + int(price.text)\n",
    "\n",
    "print(sum)\n",
    "total=int(driver.find_element(By.CLASS_NAME,\"totAmt\").text)\n",
    "assert sum == total\n",
    "\n",
    "\n",
    "\n",
    "\n",
    "driver.find_element(By.CSS_SELECTOR, \".promoCode\").send_keys(\"rahulshettyacademy\")\n",
    "\n",
    "driver.find_element(By.CLASS_NAME, \"promoBtn\").click()\n",
    "wait=WebDriverWait(driver , 10)\n",
    "wait.until(expected_conditions.presence_of_all_elements_located((By.CSS_SELECTOR,\".promoInfo\")))\n",
    "print(driver.find_element(By.CLASS_NAME, \"promoInfo\").text)"
   ]
  }
 ],
 "metadata": {
  "kernelspec": {
   "display_name": "base",
   "language": "python",
   "name": "python3"
  },
  "language_info": {
   "codemirror_mode": {
    "name": "ipython",
    "version": 3
   },
   "file_extension": ".py",
   "mimetype": "text/x-python",
   "name": "python",
   "nbconvert_exporter": "python",
   "pygments_lexer": "ipython3",
   "version": "3.9.13"
  },
  "orig_nbformat": 4,
  "vscode": {
   "interpreter": {
    "hash": "36f50e89ebdd02bcc85e461a1c8050302c5d9b5bc72e4d4807aab20548e99ac9"
   }
  }
 },
 "nbformat": 4,
 "nbformat_minor": 2
}
