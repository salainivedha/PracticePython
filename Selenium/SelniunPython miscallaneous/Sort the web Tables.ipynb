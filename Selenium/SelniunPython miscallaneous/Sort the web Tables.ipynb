{
 "cells": [
  {
   "cell_type": "code",
   "execution_count": 3,
   "metadata": {},
   "outputs": [],
   "source": [
    "from selenium import webdriver\n",
    "from selenium.webdriver.chrome.service import Service\n",
    "from selenium.webdriver.common.by import By\n",
    "browserwebelemts=[]\n",
    "service_obj= Service(\"/Users/nivedha/Downloads/chromedriver_mac_arm64/chromedriver\")\n",
    "driver=webdriver.Chrome(service=service_obj)\n",
    "driver.get('https://rahulshettyacademy.com/seleniumPractise/#/offers')\n",
    "driver.find_element(By.XPATH, \"//span[text()='Veg/fruit name']\").click()\n",
    "veggiewebelements=driver.find_elements(By.XPATH,\"//tr/td[1]\")\n",
    "\n",
    "\n",
    "\n",
    "\n",
    "for elements in veggiewebelements:\n",
    "    browserwebelemts.append(elements.text)\n",
    "\n",
    "originallist = browserwebelemts.copy()\n",
    "\n",
    "browserwebelemts.sort()\n",
    "\n",
    "assert browserwebelemts == originallist\n"
   ]
  }
 ],
 "metadata": {
  "kernelspec": {
   "display_name": "base",
   "language": "python",
   "name": "python3"
  },
  "language_info": {
   "codemirror_mode": {
    "name": "ipython",
    "version": 3
   },
   "file_extension": ".py",
   "mimetype": "text/x-python",
   "name": "python",
   "nbconvert_exporter": "python",
   "pygments_lexer": "ipython3",
   "version": "3.9.13"
  },
  "orig_nbformat": 4,
  "vscode": {
   "interpreter": {
    "hash": "36f50e89ebdd02bcc85e461a1c8050302c5d9b5bc72e4d4807aab20548e99ac9"
   }
  }
 },
 "nbformat": 4,
 "nbformat_minor": 2
}
