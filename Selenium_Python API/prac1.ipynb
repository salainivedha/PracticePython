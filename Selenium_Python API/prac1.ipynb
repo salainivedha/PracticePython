{
 "cells": [
  {
   "cell_type": "code",
   "execution_count": 14,
   "metadata": {},
   "outputs": [
    {
     "ename": "UnexpectedTagNameException",
     "evalue": "Message: Select only works on <select> elements, not on <span>\n",
     "output_type": "error",
     "traceback": [
      "\u001b[0;31m---------------------------------------------------------------------------\u001b[0m",
      "\u001b[0;31mUnexpectedTagNameException\u001b[0m                Traceback (most recent call last)",
      "\u001b[0;32m/var/folders/2v/bd079wd166d09pdwyjl2f1800000gp/T/ipykernel_3146/1765152812.py\u001b[0m in \u001b[0;36m<module>\u001b[0;34m\u001b[0m\n\u001b[1;32m     15\u001b[0m \u001b[0;34m\u001b[0m\u001b[0m\n\u001b[1;32m     16\u001b[0m \u001b[0;34m\u001b[0m\u001b[0m\n\u001b[0;32m---> 17\u001b[0;31m \u001b[0mdropdown\u001b[0m \u001b[0;34m=\u001b[0m \u001b[0mSelect\u001b[0m\u001b[0;34m(\u001b[0m\u001b[0mdriver\u001b[0m\u001b[0;34m.\u001b[0m\u001b[0mfind_element\u001b[0m\u001b[0;34m(\u001b[0m\u001b[0mBy\u001b[0m\u001b[0;34m.\u001b[0m\u001b[0mID\u001b[0m\u001b[0;34m,\u001b[0m \u001b[0;34m\"select2-select-campus-login-container\"\u001b[0m\u001b[0;34m)\u001b[0m\u001b[0;34m)\u001b[0m\u001b[0;34m\u001b[0m\u001b[0;34m\u001b[0m\u001b[0m\n\u001b[0m\u001b[1;32m     18\u001b[0m \u001b[0mdropdown\u001b[0m\u001b[0;34m.\u001b[0m\u001b[0mselect_by_visible_text\u001b[0m\u001b[0;34m(\u001b[0m\u001b[0;34m\"EastCoast\"\u001b[0m\u001b[0;34m)\u001b[0m\u001b[0;34m\u001b[0m\u001b[0;34m\u001b[0m\u001b[0m\n\u001b[1;32m     19\u001b[0m \u001b[0mdriver\u001b[0m\u001b[0;34m.\u001b[0m\u001b[0mfind_element\u001b[0m\u001b[0;34m(\u001b[0m\u001b[0mBy\u001b[0m\u001b[0;34m.\u001b[0m\u001b[0mID\u001b[0m\u001b[0;34m,\u001b[0m \u001b[0;34m\"lableRememberMe\"\u001b[0m\u001b[0;34m)\u001b[0m\u001b[0;34m.\u001b[0m\u001b[0mclick\u001b[0m\u001b[0;34m(\u001b[0m\u001b[0;34m)\u001b[0m\u001b[0;34m\u001b[0m\u001b[0;34m\u001b[0m\u001b[0m\n",
      "\u001b[0;32m/Volumes/myData/anaconda/anaconda3/lib/python3.9/site-packages/selenium/webdriver/support/select.py\u001b[0m in \u001b[0;36m__init__\u001b[0;34m(self, webelement)\u001b[0m\n\u001b[1;32m     35\u001b[0m         \"\"\"\n\u001b[1;32m     36\u001b[0m         \u001b[0;32mif\u001b[0m \u001b[0mwebelement\u001b[0m\u001b[0;34m.\u001b[0m\u001b[0mtag_name\u001b[0m\u001b[0;34m.\u001b[0m\u001b[0mlower\u001b[0m\u001b[0;34m(\u001b[0m\u001b[0;34m)\u001b[0m \u001b[0;34m!=\u001b[0m \u001b[0;34m\"select\"\u001b[0m\u001b[0;34m:\u001b[0m\u001b[0;34m\u001b[0m\u001b[0;34m\u001b[0m\u001b[0m\n\u001b[0;32m---> 37\u001b[0;31m             raise UnexpectedTagNameException(\n\u001b[0m\u001b[1;32m     38\u001b[0m                 \u001b[0;34m\"Select only works on <select> elements, not on <%s>\"\u001b[0m \u001b[0;34m%\u001b[0m\u001b[0;34m\u001b[0m\u001b[0;34m\u001b[0m\u001b[0m\n\u001b[1;32m     39\u001b[0m                 webelement.tag_name)\n",
      "\u001b[0;31mUnexpectedTagNameException\u001b[0m: Message: Select only works on <select> elements, not on <span>\n"
     ]
    }
   ],
   "source": [
    "from selenium import webdriver\n",
    "\n",
    "from selenium.webdriver.chrome.service import Service\n",
    "from selenium.webdriver.common.by import By\n",
    "import time\n",
    "from selenium.webdriver.support.ui import Select\n",
    "service_obj=Service(\"/Users/nivedha/Downloads/chromedriver_mac_arm64/chromedriver\")\n",
    "\n",
    "driver=webdriver.Chrome(service=service_obj)\n",
    "\n",
    "driver.get(\"https://www.mygiis.org/#/\")\n",
    "driver.maximize_window()\n",
    "driver.find_element(By.ID, \"userId\").send_keys(\"Shamugasundaram\")\n",
    "driver.find_element(By.NAME, \"userPassword\").send_keys(\"3El28bkvFR\")\n",
    "\n",
    "\n",
    "dropdown = Select(driver.find_element(By.ID, \"select2-select-campus-login-container\"))\n",
    "dropdown.select_by_visible_text(\"EastCoast\")\n",
    "driver.find_element(By.ID, \"lableRememberMe\").click()"
   ]
  }
 ],
 "metadata": {
  "kernelspec": {
   "display_name": "base",
   "language": "python",
   "name": "python3"
  },
  "language_info": {
   "codemirror_mode": {
    "name": "ipython",
    "version": 3
   },
   "file_extension": ".py",
   "mimetype": "text/x-python",
   "name": "python",
   "nbconvert_exporter": "python",
   "pygments_lexer": "ipython3",
   "version": "3.9.13"
  },
  "orig_nbformat": 4,
  "vscode": {
   "interpreter": {
    "hash": "36f50e89ebdd02bcc85e461a1c8050302c5d9b5bc72e4d4807aab20548e99ac9"
   }
  }
 },
 "nbformat": 4,
 "nbformat_minor": 2
}
