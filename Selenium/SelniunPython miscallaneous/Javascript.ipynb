{
 "cells": [
  {
   "cell_type": "code",
   "execution_count": 8,
   "metadata": {},
   "outputs": [
    {
     "data": {
      "text/plain": [
       "True"
      ]
     },
     "execution_count": 8,
     "metadata": {},
     "output_type": "execute_result"
    }
   ],
   "source": [
    "from selenium import webdriver\n",
    "from selenium.webdriver.chrome.service import Service\n",
    "\n",
    "chrome_options=webdriver.ChromeOptions()\n",
    "chrome_options.add_argument(\"headless\")\n",
    "chrome_options.add_argument(\"--ignore-certificate-errors\")\n",
    "\n",
    "service_Obj= Service(\"/Users/nivedha/Downloads/chromedriver_mac_arm64/chromedriver\")\n",
    "driver= webdriver.Chrome(service=service_Obj, options=chrome_options)\n",
    "driver.implicitly_wait(5)\n",
    "\n",
    "\n",
    "\n",
    "driver.get(\"https://rahulshettyacademy.com/AutomationPractice/\")\n",
    "driver.execute_script(\"window.scrollBy(0,document.body.scrollHeight);\")\n",
    "driver.get_screenshot_as_file(\"screen.png\")\n"
   ]
  }
 ],
 "metadata": {
  "kernelspec": {
   "display_name": "base",
   "language": "python",
   "name": "python3"
  },
  "language_info": {
   "codemirror_mode": {
    "name": "ipython",
    "version": 3
   },
   "file_extension": ".py",
   "mimetype": "text/x-python",
   "name": "python",
   "nbconvert_exporter": "python",
   "pygments_lexer": "ipython3",
   "version": "3.9.13"
  },
  "orig_nbformat": 4,
  "vscode": {
   "interpreter": {
    "hash": "36f50e89ebdd02bcc85e461a1c8050302c5d9b5bc72e4d4807aab20548e99ac9"
   }
  }
 },
 "nbformat": 4,
 "nbformat_minor": 2
}
