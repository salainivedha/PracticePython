{
 "cells": [
  {
   "cell_type": "code",
   "execution_count": 9,
   "metadata": {},
   "outputs": [
    {
     "name": "stdout",
     "output_type": "stream",
     "text": [
      "Today is 3 2 2023\n"
     ]
    }
   ],
   "source": [
    "day=3\n",
    "month=2\n",
    "year=2023\n",
    "#print(f\"Today is {day} {month} {year}\")\n",
    "print(\"Today is\" ,day,month,year)"
   ]
  },
  {
   "cell_type": "code",
   "execution_count": 14,
   "metadata": {},
   "outputs": [
    {
     "name": "stdout",
     "output_type": "stream",
     "text": [
      "[23, 67, 34, 62, 67]\n"
     ]
    }
   ],
   "source": [
    "h=[23,34,62,67]\n",
    "\n",
    "h.insert(1,67)\n",
    "\n",
    "print(h)\n",
    "\n",
    "\n",
    "\n"
   ]
  },
  {
   "cell_type": "code",
   "execution_count": 15,
   "metadata": {},
   "outputs": [
    {
     "name": "stdout",
     "output_type": "stream",
     "text": [
      "[23, 67, 34, 62, 67, 76]\n"
     ]
    }
   ],
   "source": [
    "h.append(76)\n",
    "\n",
    "print(h)\n"
   ]
  },
  {
   "cell_type": "code",
   "execution_count": 16,
   "metadata": {},
   "outputs": [
    {
     "name": "stdout",
     "output_type": "stream",
     "text": [
      "[23, 67, 62, 67, 76]\n"
     ]
    }
   ],
   "source": [
    "del(h[2])\n",
    "print(h)"
   ]
  }
 ],
 "metadata": {
  "kernelspec": {
   "display_name": "base",
   "language": "python",
   "name": "python3"
  },
  "language_info": {
   "codemirror_mode": {
    "name": "ipython",
    "version": 3
   },
   "file_extension": ".py",
   "mimetype": "text/x-python",
   "name": "python",
   "nbconvert_exporter": "python",
   "pygments_lexer": "ipython3",
   "version": "3.9.13"
  },
  "orig_nbformat": 4,
  "vscode": {
   "interpreter": {
    "hash": "36f50e89ebdd02bcc85e461a1c8050302c5d9b5bc72e4d4807aab20548e99ac9"
   }
  }
 },
 "nbformat": 4,
 "nbformat_minor": 2
}
