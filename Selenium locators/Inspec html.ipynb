{
 "cells": [
  {
   "cell_type": "code",
   "execution_count": 1,
   "metadata": {},
   "outputs": [],
   "source": [
    "\n",
    "# by name , Id\n",
    "from selenium import webdriver\n",
    "\n",
    "from selenium.webdriver.chrome.service import Service\n",
    "from selenium.webdriver.common.by import By\n",
    "service_obj=Service(\"/Users/nivedha/Downloads/chromedriver_mac_arm64/chromedriver\")\n",
    "driver=webdriver.Chrome(service=service_obj)\n",
    "#driver.maximize_window()\n",
    "driver.get('https://rahulshettyacademy.com/angularpractice/')\n",
    "\n",
    "driver.find_element(By.NAME, \"email\").send_keys(\"hello@gmail.com\")\n",
    "driver.find_element(By.ID,\"exampleInputPassword1\").send_keys(\"123456\")\n",
    "driver.find_element(By.ID,\"exampleCheck1\").click()\n",
    "\n",
    "\n"
   ]
  },
  {
   "cell_type": "code",
   "execution_count": 2,
   "metadata": {},
   "outputs": [
    {
     "name": "stdout",
     "output_type": "stream",
     "text": [
      "×\n",
      "Success! The Form has been submitted successfully!.\n"
     ]
    }
   ],
   "source": [
    "#Xpath,class name, CSS selector\n",
    "from selenium import webdriver\n",
    "\n",
    "from selenium.webdriver.chrome.service import Service\n",
    "from selenium.webdriver.common.by import By\n",
    "service_obj=Service(\"/Users/nivedha/Downloads/chromedriver_mac_arm64/chromedriver\")\n",
    "driver=webdriver.Chrome(service=service_obj)\n",
    "driver.maximize_window()\n",
    "driver.get('https://rahulshettyacademy.com/angularpractice/')\n",
    "\n",
    "driver.find_element(By.NAME, \"email\").send_keys(\"hello@gmail.com\")\n",
    "driver.find_element(By.CSS_SELECTOR,\"input[name='name']\").send_keys(\"Rahul\")\n",
    "driver.find_element(By.ID,\"exampleInputPassword1\").send_keys(\"123456\")\n",
    "driver.find_element(By.ID,\"exampleCheck1\").click()\n",
    "\n",
    "driver.find_element(By.XPATH,\"//input[@type='submit']\").click()\n",
    "message=driver.find_element(By.CLASS_NAME,\"alert\").text\n",
    "print(message)\n",
    "assert \"Success\" in message"
   ]
  },
  {
   "cell_type": "code",
   "execution_count": 19,
   "metadata": {},
   "outputs": [
    {
     "name": "stdout",
     "output_type": "stream",
     "text": [
      "×\n",
      "Success! The Form has been submitted successfully!.\n"
     ]
    }
   ],
   "source": [
    "#Xpath and Css using chopath plugin\n",
    "#CSS selector- #ID, .classname\n",
    "\n",
    "\n",
    "\n",
    "\n",
    "\n",
    "from selenium import webdriver\n",
    "\n",
    "from selenium.webdriver.chrome.service import Service\n",
    "from selenium.webdriver.common.by import By\n",
    "from selenium.webdriver.support.ui import Select\n",
    "\n",
    "service_obj=Service(\"/Users/nivedha/Downloads/chromedriver_mac_arm64/chromedriver\")\n",
    "driver=webdriver.Chrome(service=service_obj)\n",
    "driver.maximize_window()\n",
    "driver.get('https://rahulshettyacademy.com/angularpractice/')\n",
    "\n",
    "driver.find_element(By.NAME, \"email\").send_keys(\"hello@gmail.com\")\n",
    "driver.find_element(By.CSS_SELECTOR,\"input[name='name']\").send_keys(\"Rahul\")\n",
    "driver.find_element(By.ID,\"exampleInputPassword1\").send_keys(\"123456\")\n",
    "driver.find_element(By.ID,\"exampleCheck1\").click()\n",
    "\n",
    "#static dropdown\n",
    "dropdown=Select(driver.find_element(By.ID, \"exampleFormControlSelect1\"))\n",
    "dropdown.select_by_visible_text(\"Female\")\n",
    "dropdown.select_by_index(1)\n",
    "\n",
    "driver.find_element(By.CSS_SELECTOR,\"#inlineRadio1\").click()\n",
    "\n",
    "driver.find_element(By.XPATH,\"//input[@type='submit']\").click()\n",
    "message=driver.find_element(By.CLASS_NAME,\"alert\").text\n",
    "print(message)\n",
    "assert \"Success\" in message\n",
    "#Xpath - (//tgname[@attribute='value'])[index value]\n",
    "driver.find_element(By.XPATH,\"(//input[@type='text'])[3]\").send_keys(\"hello again\")\n",
    "driver.find_element(By.XPATH,\"(//input[@type='text'])[3]\").clear()\n"
   ]
  },
  {
   "cell_type": "code",
   "execution_count": 1,
   "metadata": {},
   "outputs": [],
   "source": [
    "#Validation assertions\n",
    "from selenium import webdriver\n",
    "\n",
    "\n",
    "\n",
    "from selenium.webdriver.chrome.service import Service\n",
    "from selenium.webdriver.common.by import By\n",
    "service_obj=Service(\"/Users/nivedha/Downloads/chromedriver_mac_arm64/chromedriver\")\n",
    "driver=webdriver.Chrome(service=service_obj)\n",
    "driver.maximize_window()\n",
    "\n",
    "driver.get('https://rahulshettyacademy.com/client')\n",
    "\n",
    "#<a =anchor tab- link text\n",
    "\n",
    "driver.find_element(By.LINK_TEXT,\"Forgot password?\").click()\n",
    "\n",
    "#Xpath- \"//parenttag/childtag[index]/finaltag\"\n",
    "driver.find_element(By.XPATH,\"//form/div[1]/input\").send_keys(\"demo@gmail.com\")\n",
    "\n",
    "\n",
    "#Xpath- \"parenttag childtag:nth-child(2) finaltag\"\n",
    "driver.find_element(By.CSS_SELECTOR, \"form div:nth-child(2) input\").send_keys(\"Hello@1234\")\n",
    "\n",
    "\n",
    "driver.find_element(By.CSS_SELECTOR,\"#confirmPassword\").send_keys(\"Hello@1234\")\n",
    "\n",
    "\n",
    "#driver.find_element(By.XPATH, \"//button[@type='submit']\").click()\n",
    "\n",
    "#Bytext in Xpath- \"//tagname[text()='fieldname']\"\n",
    "driver.find_element(By.XPATH,\"//button[text()='Save New Password']\").click()\n",
    "\n",
    "\n",
    "\n",
    "\n",
    "\n",
    "\n",
    "\n"
   ]
  }
 ],
 "metadata": {
  "kernelspec": {
   "display_name": "base",
   "language": "python",
   "name": "python3"
  },
  "language_info": {
   "codemirror_mode": {
    "name": "ipython",
    "version": 3
   },
   "file_extension": ".py",
   "mimetype": "text/x-python",
   "name": "python",
   "nbconvert_exporter": "python",
   "pygments_lexer": "ipython3",
   "version": "3.9.13"
  },
  "orig_nbformat": 4,
  "vscode": {
   "interpreter": {
    "hash": "36f50e89ebdd02bcc85e461a1c8050302c5d9b5bc72e4d4807aab20548e99ac9"
   }
  }
 },
 "nbformat": 4,
 "nbformat_minor": 2
}
