{
 "cells": [
  {
   "cell_type": "code",
   "execution_count": 1,
   "metadata": {},
   "outputs": [
    {
     "name": "stdout",
     "output_type": "stream",
     "text": [
      "['__builtins__', '__cached__', '__doc__', '__file__', '__loader__', '__name__', '__package__', '__spec__', 'branch', 'password', 'userid']\n",
      "Shamugasundaram Spy@Game@123\n",
      "EastCoast\n"
     ]
    }
   ],
   "source": [
    "from selenium import webdriver\n",
    "\n",
    "from selenium.webdriver.chrome.service import Service\n",
    "from selenium.webdriver.common.by import By\n",
    "from selenium.webdriver.support.ui import Select\n",
    "import credentials\n",
    "print(dir(credentials))\n",
    "print(credentials.userid,credentials.password)\n",
    "\n",
    "service_obj=Service(\"/Users/nivedha/Downloads/chromedriver_mac_arm64/chromedriver\")\n",
    "\n",
    "driver=webdriver.Chrome(service=service_obj)\n",
    "\n",
    "driver.get(\"https://www.mygiis.org/#/\")\n",
    "driver.maximize_window()\n",
    "driver.find_element(By.ID, \"userId\").send_keys(credentials.userid)\n",
    "driver.find_element(By.NAME, \"userPassword\").send_keys(credentials.password)\n",
    "dropdown=Select(driver.find_element(By.ID, \"select-campus-login\"))\n",
    "print(credentials.branch)\n",
    "dropdown.select_by_visible_text(credentials.branch)\n",
    "driver.find_element(By.ID, \"lableRememberMe\").click()\n",
    "driver.find_element(By.CSS_SELECTOR, \"input[type='submit']\").click()"
   ]
  }
 ],
 "metadata": {
  "kernelspec": {
   "display_name": "base",
   "language": "python",
   "name": "python3"
  },
  "language_info": {
   "codemirror_mode": {
    "name": "ipython",
    "version": 3
   },
   "file_extension": ".py",
   "mimetype": "text/x-python",
   "name": "python",
   "nbconvert_exporter": "python",
   "pygments_lexer": "ipython3",
   "version": "3.9.13"
  },
  "orig_nbformat": 4,
  "vscode": {
   "interpreter": {
    "hash": "36f50e89ebdd02bcc85e461a1c8050302c5d9b5bc72e4d4807aab20548e99ac9"
   }
  }
 },
 "nbformat": 4,
 "nbformat_minor": 2
}
