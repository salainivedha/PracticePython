{
 "cells": [
  {
   "cell_type": "code",
   "execution_count": 6,
   "metadata": {},
   "outputs": [
    {
     "name": "stdout",
     "output_type": "stream",
     "text": [
      "3\n",
      "India\n"
     ]
    }
   ],
   "source": [
    "from selenium import webdriver\n",
    "\n",
    "from selenium.webdriver.chrome.service import Service\n",
    "from selenium.webdriver.common.by import By\n",
    "import time\n",
    "service_obj=Service(\"/Users/nivedha/Downloads/chromedriver_mac_arm64/chromedriver\")\n",
    "driver=webdriver.Chrome(service=service_obj)\n",
    "\n",
    "driver.maximize_window()\n",
    "driver.get('https://rahulshettyacademy.com/dropdownsPractise/')\n",
    "\n",
    "driver.find_element(By.ID, \"autosuggest\").send_keys(\"ind\")\n",
    "time.sleep(2)\n",
    "\n",
    "countries= driver.find_elements(By.CSS_SELECTOR, \"li[class='ui-menu-item']\")\n",
    "print(len(countries))\n",
    "\n",
    "for country in countries:\n",
    "    if country.text == \"India\":\n",
    "        country.click()\n",
    "        break\n",
    "\n",
    "#print(driver.find_element(By.ID, \"autosuggest\").text)-- does not work \n",
    "print(driver.find_element(By.ID, \"autosuggest\").get_attribute('value'))\n",
    "assert driver.find_element(By.ID, \"autosuggest\").get_attribute('value') == 'India'\n"
   ]
  },
  {
   "cell_type": "code",
   "execution_count": 10,
   "metadata": {},
   "outputs": [
    {
     "name": "stdout",
     "output_type": "stream",
     "text": [
      "3\n"
     ]
    }
   ],
   "source": [
    "#handling Checkboxes\n",
    "from selenium import webdriver\n",
    "from selenium.webdriver.chrome.service import Service\n",
    "from selenium.webdriver.common.by import By\n",
    "\n",
    "service_obj=Service(\"/Users/nivedha/Downloads/chromedriver_mac_arm64/chromedriver\")\n",
    "driver=webdriver.Chrome(service=service_obj)\n",
    "\n",
    "driver.maximize_window()\n",
    "driver.get('https://rahulshettyacademy.com/AutomationPractice/')\n",
    "\n",
    "checkboxes=driver.find_elements(By.XPATH, \"//input[@type='checkbox']\")\n",
    "print(len(checkboxes))\n",
    "\n",
    "for checkbox in checkboxes:\n",
    "    if checkbox.get_attribute(\"value\") == \"option2\":\n",
    "        checkbox.click()\n",
    "        assert checkbox.is_selected()\n",
    "        break\n",
    "\n"
   ]
  },
  {
   "cell_type": "code",
   "execution_count": 14,
   "metadata": {},
   "outputs": [],
   "source": [
    "#Handling Radio button\n",
    "\n",
    "from selenium import webdriver\n",
    "from selenium.webdriver.chrome.service import Service\n",
    "from selenium.webdriver.common.by import By\n",
    "\n",
    "service_obj=Service(\"/Users/nivedha/Downloads/chromedriver_mac_arm64/chromedriver\")\n",
    "driver=webdriver.Chrome(service=service_obj)\n",
    "\n",
    "driver.maximize_window()\n",
    "driver.get('https://rahulshettyacademy.com/AutomationPractice/')\n",
    "\n",
    "driver.find_element(By.CSS_SELECTOR, \"input[value='radio2']\").click()\n",
    "\n",
    "assert driver.find_element(By.CSS_SELECTOR, \"input[value='radio2']\").is_selected()\n",
    "\n",
    "\n",
    "assert driver.find_element(By.ID, \"displayed-text\").is_displayed()\n",
    "driver.find_element(By.ID, \"hide-textbox\").click()\n",
    "assert not driver.find_element(By.ID, \"displayed-text\").is_displayed()\n"
   ]
  },
  {
   "cell_type": "code",
   "execution_count": 16,
   "metadata": {},
   "outputs": [
    {
     "name": "stdout",
     "output_type": "stream",
     "text": [
      "Hello Salai, share this practice page and share your knowledge\n"
     ]
    }
   ],
   "source": [
    "#handling pop-ups\n",
    "\n",
    "from selenium import webdriver\n",
    "from selenium.webdriver.chrome.service import Service\n",
    "from selenium.webdriver.common.by import By\n",
    "\n",
    "service_obj=Service(\"/Users/nivedha/Downloads/chromedriver_mac_arm64/chromedriver\")\n",
    "driver=webdriver.Chrome(service=service_obj)\n",
    "\n",
    "driver.maximize_window()\n",
    "driver.get('https://rahulshettyacademy.com/AutomationPractice/')\n",
    "\n",
    "name=\"Salai\"\n",
    "driver.find_element(By.ID, \"name\").send_keys(name)\n",
    "driver.find_element(By.ID, \"alertbtn\").click()\n",
    "\n",
    "alertpop=driver.switch_to.alert\n",
    "alertext=alertpop.text\n",
    "\n",
    "print(alertext)\n",
    "assert name in alertext\n",
    "alertpop.accept()\n",
    "\n",
    "\n"
   ]
  }
 ],
 "metadata": {
  "kernelspec": {
   "display_name": "base",
   "language": "python",
   "name": "python3"
  },
  "language_info": {
   "codemirror_mode": {
    "name": "ipython",
    "version": 3
   },
   "file_extension": ".py",
   "mimetype": "text/x-python",
   "name": "python",
   "nbconvert_exporter": "python",
   "pygments_lexer": "ipython3",
   "version": "3.9.13"
  },
  "orig_nbformat": 4,
  "vscode": {
   "interpreter": {
    "hash": "36f50e89ebdd02bcc85e461a1c8050302c5d9b5bc72e4d4807aab20548e99ac9"
   }
  }
 },
 "nbformat": 4,
 "nbformat_minor": 2
}
