{
 "cells": [
  {
   "cell_type": "code",
   "execution_count": 1,
   "metadata": {},
   "outputs": [
    {
     "name": "stdout",
     "output_type": "stream",
     "text": [
      "New Window\n"
     ]
    }
   ],
   "source": [
    "from selenium import webdriver\n",
    "from selenium.webdriver.chrome.service import Service\n",
    "from selenium.webdriver.common.by import By\n",
    "\n",
    "service_obj=Service(\"/Users/nivedha/Downloads/chromedriver_mac_arm64/chromedriver\")\n",
    "driver=webdriver.Chrome(service=service_obj)\n",
    "driver.implicitly_wait(5)\n",
    "\n",
    "driver.maximize_window()\n",
    "driver.get('https://the-internet.herokuapp.com/windows')\n",
    "driver.find_element(By.LINK_TEXT, \"Click Here\").click()\n",
    "#Contains the list of windows opened\n",
    "windowsopened = driver.window_handles\n",
    "\n",
    "driver.switch_to.window(windowsopened[1])\n",
    "print(driver.find_element(By.TAG_NAME, \"h3\").text)\n",
    "\n",
    "driver.close()\n",
    "\n",
    "driver.switch_to.window(windowsopened[0])\n",
    "assert \"Opening a new window\" == driver.find_element(By.TAG_NAME, \"h3\").text\n",
    "\n"
   ]
  },
  {
   "cell_type": "code",
   "execution_count": 27,
   "metadata": {},
   "outputs": [
    {
     "name": "stdout",
     "output_type": "stream",
     "text": [
      "Please email us at mentor@rahulshettyacademy.com with below template to receive response\n",
      "mentor@rahulshettyacademy.com\n",
      "Incorrect username/password.\n"
     ]
    }
   ],
   "source": [
    "#Practice Assignment\n",
    "\n",
    "from selenium import webdriver\n",
    "from selenium.webdriver.chrome.service import Service\n",
    "from selenium.webdriver.common.by import By\n",
    "from selenium.webdriver.support.ui import WebDriverWait\n",
    "from selenium.webdriver.support import expected_conditions\n",
    "\n",
    "\n",
    "service_obj = Service(\"/Users/nivedha/Downloads/chromedriver_mac_arm64/chromedriver\")\n",
    "driver=webdriver.Chrome(service=service_obj)\n",
    "driver.implicitly_wait(5)\n",
    "\n",
    "driver.maximize_window()\n",
    "driver.get(\"https://rahulshettyacademy.com/loginpagePractise/\")\n",
    "driver.find_element(By.CLASS_NAME, \"blinkingText\").click()\n",
    "windowsopened= driver.window_handles\n",
    "\n",
    "driver.switch_to.window(windowsopened[1])\n",
    "message=driver.find_element(By.XPATH, \"//p[@class='im-para red']\").text\n",
    "print(message)\n",
    "var= message.split('at')[1].strip().split(' ')[0]\n",
    "print(var)\n",
    "driver.close()\n",
    "\n",
    "driver.switch_to.window(windowsopened[0])\n",
    "driver.find_element(By.ID,\"username\").send_keys(var)\n",
    "driver.find_element(By.ID,\"password\").send_keys(var)\n",
    "driver.find_element(By.ID, \"signInBtn\").click()\n",
    "wait= WebDriverWait(driver,10)\n",
    "wait.until(expected_conditions.visibility_of_element_located((By.CSS_SELECTOR, \".alert-danger\")))\n",
    "print(driver.find_element(By.CSS_SELECTOR, \".alert-danger\").text)\n",
    "\n",
    "\n"
   ]
  },
  {
   "cell_type": "code",
   "execution_count": 30,
   "metadata": {},
   "outputs": [
    {
     "name": "stdout",
     "output_type": "stream",
     "text": [
      "An iFrame containing the TinyMCE WYSIWYG Editor\n"
     ]
    }
   ],
   "source": [
    "#Handling Frames\n",
    "from selenium import webdriver\n",
    "from selenium.webdriver.chrome.service import Service\n",
    "from selenium.webdriver.common.by import By\n",
    "\n",
    "service_obj=Service(\"/Users/nivedha/Downloads/chromedriver_mac_arm64/chromedriver\")\n",
    "driver=webdriver.Chrome(service=service_obj)\n",
    "driver.implicitly_wait(5)\n",
    "\n",
    "driver.maximize_window()\n",
    "driver.get('https://the-internet.herokuapp.com/iframe')\n",
    "\n",
    "driver.switch_to.frame(\"mce_0_ifr\")\n",
    "driver.find_element(By.ID, \"tinymce\").clear()\n",
    "driver.find_element(By.ID, \"tinymce\").send_keys(\"I am practicing automation\")\n",
    "driver.switch_to.default_content()\n",
    "print(driver.find_element(By.TAG_NAME, \"h3\").text)\n",
    "\n",
    "\n"
   ]
  }
 ],
 "metadata": {
  "kernelspec": {
   "display_name": "base",
   "language": "python",
   "name": "python3"
  },
  "language_info": {
   "codemirror_mode": {
    "name": "ipython",
    "version": 3
   },
   "file_extension": ".py",
   "mimetype": "text/x-python",
   "name": "python",
   "nbconvert_exporter": "python",
   "pygments_lexer": "ipython3",
   "version": "3.9.13"
  },
  "orig_nbformat": 4,
  "vscode": {
   "interpreter": {
    "hash": "36f50e89ebdd02bcc85e461a1c8050302c5d9b5bc72e4d4807aab20548e99ac9"
   }
  }
 },
 "nbformat": 4,
 "nbformat_minor": 2
}
