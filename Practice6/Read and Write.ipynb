{
 "cells": [
  {
   "cell_type": "code",
   "execution_count": 11,
   "metadata": {},
   "outputs": [
    {
     "name": "stdout",
     "output_type": "stream",
     "text": [
      "cat\n",
      "dog\n",
      "hen\n",
      "goat\n",
      "ant\n",
      "\n"
     ]
    }
   ],
   "source": [
    "#Read a line\n",
    "file=open(\"test.txt\",\"r\")\n",
    "print(file.read())\n",
    "file.close()"
   ]
  },
  {
   "cell_type": "code",
   "execution_count": null,
   "metadata": {},
   "outputs": [],
   "source": []
  },
  {
   "cell_type": "code",
   "execution_count": 12,
   "metadata": {},
   "outputs": [
    {
     "name": "stdout",
     "output_type": "stream",
     "text": [
      "cat\n",
      "dog\n",
      "hen\n",
      "goat\n",
      "ant\n"
     ]
    }
   ],
   "source": [
    "#print line by line using readline\n",
    "file=open(\"test.txt\")\n",
    "\n",
    "print(file.read())\n",
    "line=file.readline()\n",
    "while line!=\"\":\n",
    "    print(line)\n",
    "    line=file.readline()\n",
    "    \n",
    "\n",
    "\n",
    "\n",
    "file.close()"
   ]
  },
  {
   "cell_type": "code",
   "execution_count": null,
   "metadata": {},
   "outputs": [],
   "source": []
  },
  {
   "cell_type": "code",
   "execution_count": 10,
   "metadata": {},
   "outputs": [],
   "source": [
    "#read the file and store all the line in list\n",
    "#Reverse the list\n",
    "#Rewrite the list back into file\n",
    "\n",
    "with open(\"test.txt\",\"r\") as reader:\n",
    "    content=reader.readlines()\n",
    "    reversed(content)\n",
    "    with open(\"test.txt\",\"w\") as writer:\n",
    "        for line in reversed(content):\n",
    "            writer.write(line)\n"
   ]
  }
 ],
 "metadata": {
  "kernelspec": {
   "display_name": "base",
   "language": "python",
   "name": "python3"
  },
  "language_info": {
   "codemirror_mode": {
    "name": "ipython",
    "version": 3
   },
   "file_extension": ".py",
   "mimetype": "text/x-python",
   "name": "python",
   "nbconvert_exporter": "python",
   "pygments_lexer": "ipython3",
   "version": "3.9.13"
  },
  "orig_nbformat": 4,
  "vscode": {
   "interpreter": {
    "hash": "36f50e89ebdd02bcc85e461a1c8050302c5d9b5bc72e4d4807aab20548e99ac9"
   }
  }
 },
 "nbformat": 4,
 "nbformat_minor": 2
}
