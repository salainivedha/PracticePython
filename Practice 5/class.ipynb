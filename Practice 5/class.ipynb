{
 "cells": [
  {
   "cell_type": "code",
   "execution_count": 2,
   "metadata": {},
   "outputs": [
    {
     "name": "stdout",
     "output_type": "stream",
     "text": [
      "I an now executing method in class\n",
      "100\n"
     ]
    }
   ],
   "source": [
    " class calculator:\n",
    "    num=100\n",
    "\n",
    "    def getData(self):\n",
    "        print(\"I am now executing method in class\")\n",
    "\n",
    "obj=calculator()\n",
    "obj.getData()\n",
    "print(obj.num)        \n"
   ]
  },
  {
   "cell_type": "code",
   "execution_count": 5,
   "metadata": {},
   "outputs": [
    {
     "name": "stdout",
     "output_type": "stream",
     "text": [
      "I am now executing method in class\n",
      "105\n",
      "I am now executing method in class\n",
      "109\n"
     ]
    }
   ],
   "source": [
    "class calculator:\n",
    "    num=100\n",
    "\n",
    "    def __init__(self,a,b):\n",
    "        self.a=a\n",
    "        self.b=b\n",
    "\n",
    "    def getData(self):\n",
    "        print(\"I am now executing method in class\")\n",
    "\n",
    "    def summation(self):\n",
    "        return self.a+self.b+calculator.num\n",
    "\n",
    "obj=calculator(2,3)\n",
    "obj.getData()\n",
    "print(obj.summation()) \n",
    "\n",
    "obj1=calculator(4,5)\n",
    "obj1.getData()\n",
    "print(obj1.summation()) "
   ]
  }
 ],
 "metadata": {
  "kernelspec": {
   "display_name": "base",
   "language": "python",
   "name": "python3"
  },
  "language_info": {
   "codemirror_mode": {
    "name": "ipython",
    "version": 3
   },
   "file_extension": ".py",
   "mimetype": "text/x-python",
   "name": "python",
   "nbconvert_exporter": "python",
   "pygments_lexer": "ipython3",
   "version": "3.9.13"
  },
  "orig_nbformat": 4,
  "vscode": {
   "interpreter": {
    "hash": "36f50e89ebdd02bcc85e461a1c8050302c5d9b5bc72e4d4807aab20548e99ac9"
   }
  }
 },
 "nbformat": 4,
 "nbformat_minor": 2
}
