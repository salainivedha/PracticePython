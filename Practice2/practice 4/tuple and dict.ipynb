{
 "cells": [
  {
   "cell_type": "code",
   "execution_count": 1,
   "id": "f798ff44",
   "metadata": {},
   "outputs": [
    {
     "name": "stdout",
     "output_type": "stream",
     "text": [
      "rahul\n"
     ]
    }
   ],
   "source": [
    "val=(1,2,\"rahul\",7)\n",
    "\n",
    "\n",
    "print(val[2])"
   ]
  },
  {
   "cell_type": "code",
   "execution_count": 2,
   "id": "6e8cdd37",
   "metadata": {},
   "outputs": [
    {
     "name": "stdout",
     "output_type": "stream",
     "text": [
      "['Hai', 'How', 'are', 'you']\n",
      "{'Hai': 1, 'How': 1, 'are': 1, 'you': 1}\n"
     ]
    }
   ],
   "source": [
    "word='Hai How are you'\n",
    "\n",
    "\n",
    "words= word.split()\n",
    "print(words)\n",
    "\n",
    "dic={}\n",
    "\n",
    "for i in words:\n",
    "    if i in dic:\n",
    "        dic[i]+=1\n",
    "    else:\n",
    "        dic[i]=1\n",
    "print(dic)"
   ]
  }
 ],
 "metadata": {
  "kernelspec": {
   "display_name": "base",
   "language": "python",
   "name": "python3"
  },
  "language_info": {
   "codemirror_mode": {
    "name": "ipython",
    "version": 3
   },
   "file_extension": ".py",
   "mimetype": "text/x-python",
   "name": "python",
   "nbconvert_exporter": "python",
   "pygments_lexer": "ipython3",
   "version": "3.9.13"
  },
  "vscode": {
   "interpreter": {
    "hash": "36f50e89ebdd02bcc85e461a1c8050302c5d9b5bc72e4d4807aab20548e99ac9"
   }
  }
 },
 "nbformat": 4,
 "nbformat_minor": 5
}
